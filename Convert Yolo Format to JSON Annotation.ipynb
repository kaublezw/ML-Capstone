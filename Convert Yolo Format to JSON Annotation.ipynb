{
 "cells": [
  {
   "cell_type": "code",
   "execution_count": 2,
   "metadata": {},
   "outputs": [],
   "source": [
    "import os\n",
    "from PIL import Image\n",
    "import glob\n",
    "import random\n",
    "from shutil import copyfile\n",
    "import csv\n",
    "import pandas as pd\n",
    "import numpy\n",
    "from numpy import asarray\n",
    "import cv2\n",
    "import matplotlib.pyplot as plt\n",
    "from sklearn.model_selection import train_test_split\n",
    "import json"
   ]
  },
  {
   "cell_type": "code",
   "execution_count": 47,
   "metadata": {},
   "outputs": [],
   "source": [
    "def genSageMaker(outputpath,imageoutputpath, files):\n",
    "    classes = ['3clover','4clover']\n",
    "\n",
    "    totalcount = 0;\n",
    "    for f in files:    \n",
    "\n",
    "        file =f.split('\\\\')[-1].split('.')[0]\n",
    "        img_file = f.split('.')[0] + '.jpg'\n",
    "        img = cv2.imread(img_file)\n",
    "        img_height, img_width, channels = img.shape\n",
    "\n",
    "        copyfile(img_file,imageoutputpath+file+'.jpg')\n",
    "        \n",
    "        line = {}\n",
    "        line['file'] = file+'.jpg'\n",
    "        line['image_size'] = [{\n",
    "            'width':img_width,\n",
    "            'height':img_height,\n",
    "            'depth':3\n",
    "        }]\n",
    "\n",
    "        line['annotations'] = []\n",
    "        line['categories'] = []\n",
    "\n",
    "        temp_df = pd.read_csv(f, delimiter=' ', header=None, names=['class','x','y','w','h'])\n",
    "\n",
    "        for i in temp_df.index:\n",
    "            x = round(temp_df['x'][i] * img_width)\n",
    "            y = round(temp_df['y'][i] * img_height)\n",
    "            width = round(temp_df['w'][i] * img_width)\n",
    "            height = round(temp_df['h'][i] * img_height)\n",
    "            \n",
    "            top = y-round(width/2)\n",
    "            left = x-round(height/2)\n",
    "            \n",
    "            \n",
    "            line['annotations'].append({\n",
    "                'class_id':int(temp_df['class'][i]),\n",
    "                'top':int(top),\n",
    "                'left':int(left),\n",
    "                'width':int(width),\n",
    "                'height':int(height)           \n",
    "            })\n",
    "            totalcount = totalcount+1\n",
    "\n",
    "    \n",
    "        category_df  = temp_df['class'].unique()\n",
    "        category_df.sort()    \n",
    "            \n",
    "        for i in category_df:\n",
    "            line['categories'].append({\n",
    "                'class_id':int(i),\n",
    "                'name':classes[int(i)]\n",
    "            })\n",
    "\n",
    "\n",
    "        jsonFile = outputpath + file +\".json\"\n",
    "    \n",
    "        with open(jsonFile,'w') as p:\n",
    "            json.dump(line,p)\n",
    "    print(totalcount)"
   ]
  },
  {
   "cell_type": "code",
   "execution_count": 48,
   "metadata": {},
   "outputs": [
    {
     "name": "stdout",
     "output_type": "stream",
     "text": [
      "33871\n",
      "86129\n"
     ]
    }
   ],
   "source": [
    "path = \"C:\\\\Users\\\\kaublezw\\\\src\\\\Capstone\\\\Data\\\\yolo\\\\\"\n",
    "files = glob.glob(path+\"rotated\\\\*.txt\")\n",
    "\n",
    "testoutputpath = \"C:\\\\Users\\\\kaublezw\\\\src\\\\Capstone\\\\Data\\\\sagemaker\\\\validation_annotation\\\\\"\n",
    "trainoutputpath = \"C:\\\\Users\\\\kaublezw\\\\src\\\\Capstone\\\\Data\\\\sagemaker\\\\train_annotation\\\\\"\n",
    "testimageoutputpath = \"C:\\\\Users\\\\kaublezw\\\\src\\\\Capstone\\\\Data\\\\sagemaker\\\\validation\\\\\"\n",
    "trainimageoutputpath = \"C:\\\\Users\\\\kaublezw\\\\src\\\\Capstone\\\\Data\\\\sagemaker\\\\train\\\\\"\n",
    "\n",
    "\n",
    "train, test = train_test_split(files, test_size=.3, random_state=42)\n",
    "\n",
    "genSageMaker(testoutputpath,testimageoutputpath, test)\n",
    "genSageMaker(trainoutputpath,trainimageoutputpath, train)\n",
    "\n"
   ]
  }
 ],
 "metadata": {
  "kernelspec": {
   "display_name": "Python 3",
   "language": "python",
   "name": "python3"
  },
  "language_info": {
   "codemirror_mode": {
    "name": "ipython",
    "version": 3
   },
   "file_extension": ".py",
   "mimetype": "text/x-python",
   "name": "python",
   "nbconvert_exporter": "python",
   "pygments_lexer": "ipython3",
   "version": "3.7.6"
  }
 },
 "nbformat": 4,
 "nbformat_minor": 4
}
